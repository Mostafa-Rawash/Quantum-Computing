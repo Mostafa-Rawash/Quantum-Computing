{
  "nbformat": 4,
  "nbformat_minor": 0,
  "metadata": {
    "colab": {
      "name": "Quantum-iris.ipynb",
      "provenance": [],
      "collapsed_sections": [],
      "authorship_tag": "ABX9TyMK8Q41auBHedH8e2RSq/Az",
      "include_colab_link": true
    },
    "kernelspec": {
      "display_name": "Python 3",
      "name": "python3"
    },
    "language_info": {
      "name": "python"
    }
  },
  "cells": [
    {
      "cell_type": "markdown",
      "metadata": {
        "id": "view-in-github",
        "colab_type": "text"
      },
      "source": [
        "<a href=\"https://colab.research.google.com/github/Mostafa-Rawash/Quantum-Computing/blob/main/Quantum_iris.ipynb\" target=\"_parent\"><img src=\"https://colab.research.google.com/assets/colab-badge.svg\" alt=\"Open In Colab\"/></a>"
      ]
    },
    {
      "cell_type": "code",
      "metadata": {
        "id": "RGdS6pLlNi6D"
      },
      "source": [
        "!pip install qiskit"
      ],
      "execution_count": null,
      "outputs": []
    },
    {
      "cell_type": "code",
      "metadata": {
        "id": "1qKgCTtsMUzp"
      },
      "source": [
        "import qiskit\n",
        "from matplotlib import pyplot as plt\n",
        "import numpy as np\n",
        "# from qiskit.ml.datasets import ad_hoc_data\n",
        "from qiskit.ml.datasets import iris\n",
        "from qiskit import BasicAer\n",
        "from qiskit.circuit.library import ZZFeatureMap\n",
        "from qiskit.aqua import QuantumInstance , aqua_globals\n",
        "from qiskit.aqua.algorithms import QSVM\n",
        "from qiskit.aqua.utils import split_dataset_to_data_and_labels , map_label_to_class_name\n",
        "from qiskit.aqua.utils.dataset_helper import get_feature_dimension\n"
      ],
      "execution_count": null,
      "outputs": []
    },
    {
      "cell_type": "code",
      "metadata": {
        "id": "jtjOcBtzOTtg"
      },
      "source": [
        "# Import seaborn\n",
        "import seaborn as sns\n"
      ],
      "execution_count": null,
      "outputs": []
    },
    {
      "cell_type": "code",
      "metadata": {
        "id": "BrvmQcA_NLNN"
      },
      "source": [
        "from sklearn import datasets\n",
        "from sklearn.decomposition import PCA\n",
        "\n",
        "# import some data to play with\n",
        "iris = datasets.load_iris()\n",
        "X = iris.data[:, :2]  # we only take the first two features.\n",
        "y = iris.target\n"
      ],
      "execution_count": null,
      "outputs": []
    },
    {
      "cell_type": "code",
      "metadata": {
        "id": "0iv0liQuNUR2"
      },
      "source": [
        ""
      ],
      "execution_count": null,
      "outputs": []
    },
    {
      "cell_type": "code",
      "metadata": {
        "colab": {
          "base_uri": "https://localhost:8080/",
          "height": 318
        },
        "id": "mpbnjD-lFn99",
        "outputId": "51ec9005-0bf6-428d-ae71-ab72189dffe8"
      },
      "source": [
        "feature_dim = 2\n",
        "training_dataset_size = 60\n",
        "testing_dataset_size = 10\n",
        "randon_seed = 10598\n",
        "shot = 10000\n",
        "sample_train, training_input, test_input, class_labels = iris(training_size = training_dataset_size , test_size = testing_dataset_size, n = feature_dim , plot_data=True )\n",
        "\n",
        "\n",
        "print(class_labels)\n",
        "datapoints , clas_to_label = split_dataset_to_data_and_labels(test_input)\n",
        "print(clas_to_label)"
      ],
      "execution_count": null,
      "outputs": [
        {
          "data": {
            "image/png": "[encoded data removed]",
            "text/plain": [
              "<Figure size 432x288 with 1 Axes>"
            ]
          },
          "metadata": {},
          "output_type": "display_data"
        },
        {
          "name": "stdout",
          "output_type": "stream",
          "text": [
            "['A', 'B', 'C']\n",
            "{'A': 0, 'B': 1, 'C': 2}\n"
          ]
        }
      ]
    },
    {
      "cell_type": "code",
      "metadata": {
        "id": "4xQSsh-xXvvu"
      },
      "source": [
        "temp = [test_input[k] for k in test_input]\n",
        "total_array = np.concatenate(temp)\n",
        "from qiskit.aqua.components.multiclass_extensions import AllPairs\n"
      ],
      "execution_count": null,
      "outputs": []
    },
    {
      "cell_type": "code",
      "metadata": {
        "colab": {
          "base_uri": "https://localhost:8080/",
          "height": 368
        },
        "id": "QsCUhOJWYLNP",
        "outputId": "1c12a0ad-f667-4091-afa0-dea2ef301433"
      },
      "source": [
        "aqua_globals.random_seed = 10598\n",
        "\n",
        "backend = BasicAer.get_backend('qasm_simulator')\n",
        "feature_map = ZZFeatureMap(feature_dimension=get_feature_dimension(training_input), reps=2, entanglement='linear')\n",
        "\n",
        "\n",
        "svm = QSVM(feature_map, training_input, test_input, total_array, multiclass_extension=AllPairs())\n",
        "\n",
        "\n",
        "quantum_instance = QuantumInstance(backend, shots=1024,\n",
        "                                    seed_simulator=aqua_globals.random_seed,\n",
        "                                    seed_transpiler=aqua_globals.random_seed)\n",
        "\n",
        "result = svm.run(quantum_instance)\n",
        "for k,v in result.items():\n",
        "    print(\"'{}' : {}\".format(k, v))\n"
      ],
      "execution_count": null,
      "outputs": [
        {
          "ename": "TypeError",
          "evalue": "ignored",
          "output_type": "error",
          "traceback": [
            "\u001b[0;31m---------------------------------------------------------------------------\u001b[0m",
            "\u001b[0;31mTypeError\u001b[0m                                 Traceback (most recent call last)",
            "\u001b[0;32m<ipython-input-99-edff1e972a13>\u001b[0m in \u001b[0;36m<module>\u001b[0;34m()\u001b[0m\n\u001b[1;32m      5\u001b[0m \u001b[0;34m\u001b[0m\u001b[0m\n\u001b[1;32m      6\u001b[0m \u001b[0;34m\u001b[0m\u001b[0m\n\u001b[0;32m----> 7\u001b[0;31m \u001b[0msvm\u001b[0m \u001b[0;34m=\u001b[0m \u001b[0mQSVM\u001b[0m\u001b[0;34m(\u001b[0m\u001b[0mfeature_map\u001b[0m\u001b[0;34m,\u001b[0m \u001b[0mtraining_input\u001b[0m\u001b[0;34m,\u001b[0m \u001b[0mtest_input\u001b[0m\u001b[0;34m,\u001b[0m \u001b[0mtotal_array\u001b[0m\u001b[0;34m,\u001b[0m \u001b[0mmulticlass_extension\u001b[0m\u001b[0;34m=\u001b[0m\u001b[0mAllPairs\u001b[0m\u001b[0;34m(\u001b[0m\u001b[0;34m)\u001b[0m\u001b[0;34m)\u001b[0m\u001b[0;34m\u001b[0m\u001b[0;34m\u001b[0m\u001b[0m\n\u001b[0m\u001b[1;32m      8\u001b[0m \u001b[0;34m\u001b[0m\u001b[0m\n\u001b[1;32m      9\u001b[0m \u001b[0;34m\u001b[0m\u001b[0m\n",
            "\u001b[0;32m/usr/local/lib/python3.7/dist-packages/qiskit/aqua/algorithms/classifiers/qsvm/qsvm.py\u001b[0m in \u001b[0;36m__init__\u001b[0;34m(self, feature_map, training_dataset, test_dataset, datapoints, multiclass_extension, lambda2, quantum_instance)\u001b[0m\n\u001b[1;32m    153\u001b[0m             \u001b[0mqsvm_instance\u001b[0m \u001b[0;34m=\u001b[0m \u001b[0m_QSVM_Binary\u001b[0m\u001b[0;34m(\u001b[0m\u001b[0mself\u001b[0m\u001b[0;34m)\u001b[0m\u001b[0;34m\u001b[0m\u001b[0;34m\u001b[0m\u001b[0m\n\u001b[1;32m    154\u001b[0m         \u001b[0;32melse\u001b[0m\u001b[0;34m:\u001b[0m\u001b[0;34m\u001b[0m\u001b[0;34m\u001b[0m\u001b[0m\n\u001b[0;32m--> 155\u001b[0;31m             \u001b[0mmulticlass_extension\u001b[0m\u001b[0;34m.\u001b[0m\u001b[0mset_estimator\u001b[0m\u001b[0;34m(\u001b[0m\u001b[0m_QSVM_Estimator\u001b[0m\u001b[0;34m,\u001b[0m \u001b[0;34m[\u001b[0m\u001b[0mfeature_map\u001b[0m\u001b[0;34m]\u001b[0m\u001b[0;34m)\u001b[0m\u001b[0;34m\u001b[0m\u001b[0;34m\u001b[0m\u001b[0m\n\u001b[0m\u001b[1;32m    156\u001b[0m             \u001b[0mqsvm_instance\u001b[0m \u001b[0;34m=\u001b[0m \u001b[0m_QSVM_Multiclass\u001b[0m\u001b[0;34m(\u001b[0m\u001b[0mself\u001b[0m\u001b[0;34m,\u001b[0m \u001b[0mmulticlass_extension\u001b[0m\u001b[0;34m)\u001b[0m\u001b[0;34m\u001b[0m\u001b[0;34m\u001b[0m\u001b[0m\n\u001b[1;32m    157\u001b[0m \u001b[0;34m\u001b[0m\u001b[0m\n",
            "\u001b[0;31mTypeError\u001b[0m: Estimator() takes no arguments"
          ]
        }
      ]
    },
    {
      "cell_type": "code",
      "metadata": {
        "colab": {
          "base_uri": "https://localhost:8080/",
          "height": 385
        },
        "id": "13md7lksNWgj",
        "outputId": "5e67494c-48ac-4841-df20-1375013b34ac"
      },
      "source": [
        "from qiskit.aqua.components.multiclass_extensions import AllPairs\n",
        "backend = BasicAer.get_backend('qasm_simulator')\n",
        "feature_map = ZZFeatureMap(feature_dim , reps = 2)\n",
        "svm = QSVM(feature_map get_feature_dimension(),training_input , test_input ,total_array, multiclass_extension=AllPairs())\n",
        "svm.random_seed = randon_seed\n",
        "quantunInstance = QuantumInstance(backend, shots=shot , seed_simulator= randon_seed , seed_transpiler=randon_seed )\n",
        "result = svm.run(quantunInstance)\n"
      ],
      "execution_count": null,
      "outputs": [
        {
          "ename": "TypeError",
          "evalue": "ignored",
          "output_type": "error",
          "traceback": [
            "\u001b[0;31m---------------------------------------------------------------------------\u001b[0m",
            "\u001b[0;31mTypeError\u001b[0m                                 Traceback (most recent call last)",
            "\u001b[0;32m<ipython-input-89-45c1525d8685>\u001b[0m in \u001b[0;36m<module>\u001b[0;34m()\u001b[0m\n\u001b[1;32m      2\u001b[0m \u001b[0mbackend\u001b[0m \u001b[0;34m=\u001b[0m \u001b[0mBasicAer\u001b[0m\u001b[0;34m.\u001b[0m\u001b[0mget_backend\u001b[0m\u001b[0;34m(\u001b[0m\u001b[0;34m'qasm_simulator'\u001b[0m\u001b[0;34m)\u001b[0m\u001b[0;34m\u001b[0m\u001b[0;34m\u001b[0m\u001b[0m\n\u001b[1;32m      3\u001b[0m \u001b[0mfeature_map\u001b[0m \u001b[0;34m=\u001b[0m \u001b[0mZZFeatureMap\u001b[0m\u001b[0;34m(\u001b[0m\u001b[0mfeature_dim\u001b[0m \u001b[0;34m,\u001b[0m \u001b[0mreps\u001b[0m \u001b[0;34m=\u001b[0m \u001b[0;36m2\u001b[0m\u001b[0;34m)\u001b[0m\u001b[0;34m\u001b[0m\u001b[0;34m\u001b[0m\u001b[0m\n\u001b[0;32m----> 4\u001b[0;31m \u001b[0msvm\u001b[0m \u001b[0;34m=\u001b[0m \u001b[0mQSVM\u001b[0m\u001b[0;34m(\u001b[0m\u001b[0mfeature_map\u001b[0m\u001b[0;34m,\u001b[0m\u001b[0mtraining_input\u001b[0m \u001b[0;34m,\u001b[0m \u001b[0mtest_input\u001b[0m \u001b[0;34m,\u001b[0m\u001b[0mtotal_array\u001b[0m\u001b[0;34m,\u001b[0m \u001b[0mmulticlass_extension\u001b[0m\u001b[0;34m=\u001b[0m\u001b[0mAllPairs\u001b[0m\u001b[0;34m(\u001b[0m\u001b[0;34m)\u001b[0m\u001b[0;34m)\u001b[0m\u001b[0;34m\u001b[0m\u001b[0;34m\u001b[0m\u001b[0m\n\u001b[0m\u001b[1;32m      5\u001b[0m \u001b[0msvm\u001b[0m\u001b[0;34m.\u001b[0m\u001b[0mrandom_seed\u001b[0m \u001b[0;34m=\u001b[0m \u001b[0mrandon_seed\u001b[0m\u001b[0;34m\u001b[0m\u001b[0;34m\u001b[0m\u001b[0m\n\u001b[1;32m      6\u001b[0m \u001b[0mquantunInstance\u001b[0m \u001b[0;34m=\u001b[0m \u001b[0mQuantumInstance\u001b[0m\u001b[0;34m(\u001b[0m\u001b[0mbackend\u001b[0m\u001b[0;34m,\u001b[0m \u001b[0mshots\u001b[0m\u001b[0;34m=\u001b[0m\u001b[0mshot\u001b[0m \u001b[0;34m,\u001b[0m \u001b[0mseed_simulator\u001b[0m\u001b[0;34m=\u001b[0m \u001b[0mrandon_seed\u001b[0m \u001b[0;34m,\u001b[0m \u001b[0mseed_transpiler\u001b[0m\u001b[0;34m=\u001b[0m\u001b[0mrandon_seed\u001b[0m \u001b[0;34m)\u001b[0m\u001b[0;34m\u001b[0m\u001b[0;34m\u001b[0m\u001b[0m\n",
            "\u001b[0;32m/usr/local/lib/python3.7/dist-packages/qiskit/aqua/algorithms/classifiers/qsvm/qsvm.py\u001b[0m in \u001b[0;36m__init__\u001b[0;34m(self, feature_map, training_dataset, test_dataset, datapoints, multiclass_extension, lambda2, quantum_instance)\u001b[0m\n\u001b[1;32m    153\u001b[0m             \u001b[0mqsvm_instance\u001b[0m \u001b[0;34m=\u001b[0m \u001b[0m_QSVM_Binary\u001b[0m\u001b[0;34m(\u001b[0m\u001b[0mself\u001b[0m\u001b[0;34m)\u001b[0m\u001b[0;34m\u001b[0m\u001b[0;34m\u001b[0m\u001b[0m\n\u001b[1;32m    154\u001b[0m         \u001b[0;32melse\u001b[0m\u001b[0;34m:\u001b[0m\u001b[0;34m\u001b[0m\u001b[0;34m\u001b[0m\u001b[0m\n\u001b[0;32m--> 155\u001b[0;31m             \u001b[0mmulticlass_extension\u001b[0m\u001b[0;34m.\u001b[0m\u001b[0mset_estimator\u001b[0m\u001b[0;34m(\u001b[0m\u001b[0m_QSVM_Estimator\u001b[0m\u001b[0;34m,\u001b[0m \u001b[0;34m[\u001b[0m\u001b[0mfeature_map\u001b[0m\u001b[0;34m]\u001b[0m\u001b[0;34m)\u001b[0m\u001b[0;34m\u001b[0m\u001b[0;34m\u001b[0m\u001b[0m\n\u001b[0m\u001b[1;32m    156\u001b[0m             \u001b[0mqsvm_instance\u001b[0m \u001b[0;34m=\u001b[0m \u001b[0m_QSVM_Multiclass\u001b[0m\u001b[0;34m(\u001b[0m\u001b[0mself\u001b[0m\u001b[0;34m,\u001b[0m \u001b[0mmulticlass_extension\u001b[0m\u001b[0;34m)\u001b[0m\u001b[0;34m\u001b[0m\u001b[0;34m\u001b[0m\u001b[0m\n\u001b[1;32m    157\u001b[0m \u001b[0;34m\u001b[0m\u001b[0m\n",
            "\u001b[0;31mTypeError\u001b[0m: Estimator() takes no arguments"
          ]
        }
      ]
    },
    {
      "cell_type": "code",
      "metadata": {
        "id": "l9ChChrFN96M"
      },
      "source": [
        "qiskit.aqua.components.multiclass_extensions.MulticlassExtension.set_estimator?\n"
      ],
      "execution_count": null,
      "outputs": []
    },
    {
      "cell_type": "code",
      "metadata": {
        "colab": {
          "base_uri": "https://localhost:8080/"
        },
        "id": "H4lBBFqMWJZW",
        "outputId": "89cf7ec4-62ae-4fd7-c99b-f112756a0c04"
      },
      "source": [
        "qiskit.aqua.components.multiclass_extensions.estimator.Estimator"
      ],
      "execution_count": null,
      "outputs": [
        {
          "data": {
            "text/plain": [
              "qiskit.aqua.components.multiclass_extensions.estimator.Estimator"
            ]
          },
          "execution_count": 64,
          "metadata": {},
          "output_type": "execute_result"
        }
      ]
    },
    {
      "cell_type": "code",
      "metadata": {
        "colab": {
          "base_uri": "https://localhost:8080/"
        },
        "id": "Rb7sVnwjWbfG",
        "outputId": "df2fab25-bb04-407e-bd37-5c4a1e27cdae"
      },
      "source": [
        "print(qiskit.aqua.components.multiclass_extensions.estimator.Estimator)"
      ],
      "execution_count": null,
      "outputs": [
        {
          "name": "stdout",
          "output_type": "stream",
          "text": [
            "<class 'qiskit.aqua.components.multiclass_extensions.estimator.Estimator'>\n"
          ]
        }
      ]
    },
    {
      "cell_type": "code",
      "metadata": {
        "id": "nPumqsl5Wda_"
      },
      "source": [
        "\n",
        "\n",
        "\n",
        "\n",
        "\n"
      ],
      "execution_count": null,
      "outputs": []
    },
    {
      "cell_type": "code",
      "metadata": {
        "id": "OuVK2NffY8Cy"
      },
      "source": [
        "\n"
      ],
      "execution_count": null,
      "outputs": []
    },
    {
      "cell_type": "code",
      "metadata": {
        "id": "YKDs8DasY8ZE"
      },
      "source": [
        "\n"
      ],
      "execution_count": null,
      "outputs": []
    },
    {
      "cell_type": "code",
      "metadata": {
        "id": "J2oE78BfY8uS"
      },
      "source": [
        "\n",
        "import numpy as np\n",
        "from qiskit.ml.datasets import wine\n",
        "from qiskit import BasicAer\n",
        "from qiskit.circuit.library import ZZFeatureMap\n",
        "from qiskit.aqua import QuantumInstance, aqua_globals\n",
        "from qiskit.aqua.algorithms import QSVM\n",
        "from qiskit.aqua.components.multiclass_extensions import AllPairs , OneAgainstRest\n",
        "from qiskit.aqua.utils.dataset_helper import get_feature_dimension"
      ],
      "execution_count": null,
      "outputs": []
    },
    {
      "cell_type": "code",
      "metadata": {
        "colab": {
          "base_uri": "https://localhost:8080/",
          "height": 284
        },
        "id": "7NOLQ41MY-w0",
        "outputId": "1d5191b9-2397-44df-862b-f07648c46566"
      },
      "source": [
        "n = 2  # dimension of each data point\n",
        "sample_Total, training_input, test_input, class_labels = wine(\n",
        "    training_size=40,\n",
        "    test_size=10, n=n, plot_data=True\n",
        ")\n",
        "temp = [test_input[k] for k in test_input]\n",
        "total_array = np.concatenate(temp)\n"
      ],
      "execution_count": null,
      "outputs": [
        {
          "output_type": "display_data",
          "data": {
            "image/png": "[encoded data removed]",
            "text/plain": [
              "<Figure size 432x288 with 1 Axes>"
            ]
          },
          "metadata": {}
        }
      ]
    },
    {
      "cell_type": "code",
      "metadata": {
        "colab": {
          "base_uri": "https://localhost:8080/",
          "height": 351
        },
        "id": "Gmo7RS2CY_AJ",
        "outputId": "25ab5c64-2818-4d5b-e606-a8a06ac59cb0"
      },
      "source": [
        "aqua_globals.random_seed = 10598\n",
        "\n",
        "backend = BasicAer.get_backend('qasm_simulator')\n",
        "feature_map = ZZFeatureMap(feature_dimension=get_feature_dimension(training_input),\n",
        "                           reps=2, entanglement='linear')\n",
        "svm = QSVM(feature_map, training_input, test_input, total_array,multiclass_extension=AllPairs())\n",
        "quantum_instance = QuantumInstance(backend, shots=1024,\n",
        "                                    seed_simulator=aqua_globals.random_seed,\n",
        "                                    seed_transpiler=aqua_globals.random_seed)\n",
        "\n",
        "result = svm.run(quantum_instance)\n",
        "for k,v in result.items():\n",
        "    print(\"'{}' : {}\".format(k, v))\n"
      ],
      "execution_count": null,
      "outputs": [
        {
          "output_type": "error",
          "ename": "TypeError",
          "evalue": "ignored",
          "traceback": [
            "\u001b[0;31m---------------------------------------------------------------------------\u001b[0m",
            "\u001b[0;31mTypeError\u001b[0m                                 Traceback (most recent call last)",
            "\u001b[0;32m<ipython-input-126-1ce3df810242>\u001b[0m in \u001b[0;36m<module>\u001b[0;34m()\u001b[0m\n\u001b[1;32m      4\u001b[0m feature_map = ZZFeatureMap(feature_dimension=get_feature_dimension(training_input),\n\u001b[1;32m      5\u001b[0m                            reps=2, entanglement='linear')\n\u001b[0;32m----> 6\u001b[0;31m \u001b[0msvm\u001b[0m \u001b[0;34m=\u001b[0m \u001b[0mQSVM\u001b[0m\u001b[0;34m(\u001b[0m\u001b[0mfeature_map\u001b[0m\u001b[0;34m,\u001b[0m \u001b[0mtraining_input\u001b[0m\u001b[0;34m,\u001b[0m \u001b[0mtest_input\u001b[0m\u001b[0;34m,\u001b[0m \u001b[0mtotal_array\u001b[0m\u001b[0;34m,\u001b[0m\u001b[0mmulticlass_extension\u001b[0m\u001b[0;34m=\u001b[0m\u001b[0mAllPairs\u001b[0m\u001b[0;34m(\u001b[0m\u001b[0;34m)\u001b[0m\u001b[0;34m)\u001b[0m\u001b[0;34m\u001b[0m\u001b[0;34m\u001b[0m\u001b[0m\n\u001b[0m\u001b[1;32m      7\u001b[0m quantum_instance = QuantumInstance(backend, shots=1024,\n\u001b[1;32m      8\u001b[0m                                     \u001b[0mseed_simulator\u001b[0m\u001b[0;34m=\u001b[0m\u001b[0maqua_globals\u001b[0m\u001b[0;34m.\u001b[0m\u001b[0mrandom_seed\u001b[0m\u001b[0;34m,\u001b[0m\u001b[0;34m\u001b[0m\u001b[0;34m\u001b[0m\u001b[0m\n",
            "\u001b[0;32m/usr/local/lib/python3.7/dist-packages/qiskit/aqua/algorithms/classifiers/qsvm/qsvm.py\u001b[0m in \u001b[0;36m__init__\u001b[0;34m(self, feature_map, training_dataset, test_dataset, datapoints, multiclass_extension, lambda2, quantum_instance)\u001b[0m\n\u001b[1;32m    153\u001b[0m             \u001b[0mqsvm_instance\u001b[0m \u001b[0;34m=\u001b[0m \u001b[0m_QSVM_Binary\u001b[0m\u001b[0;34m(\u001b[0m\u001b[0mself\u001b[0m\u001b[0;34m)\u001b[0m\u001b[0;34m\u001b[0m\u001b[0;34m\u001b[0m\u001b[0m\n\u001b[1;32m    154\u001b[0m         \u001b[0;32melse\u001b[0m\u001b[0;34m:\u001b[0m\u001b[0;34m\u001b[0m\u001b[0;34m\u001b[0m\u001b[0m\n\u001b[0;32m--> 155\u001b[0;31m             \u001b[0mmulticlass_extension\u001b[0m\u001b[0;34m.\u001b[0m\u001b[0mset_estimator\u001b[0m\u001b[0;34m(\u001b[0m\u001b[0m_QSVM_Estimator\u001b[0m\u001b[0;34m,\u001b[0m \u001b[0;34m[\u001b[0m\u001b[0mfeature_map\u001b[0m\u001b[0;34m]\u001b[0m\u001b[0;34m)\u001b[0m\u001b[0;34m\u001b[0m\u001b[0;34m\u001b[0m\u001b[0m\n\u001b[0m\u001b[1;32m    156\u001b[0m             \u001b[0mqsvm_instance\u001b[0m \u001b[0;34m=\u001b[0m \u001b[0m_QSVM_Multiclass\u001b[0m\u001b[0;34m(\u001b[0m\u001b[0mself\u001b[0m\u001b[0;34m,\u001b[0m \u001b[0mmulticlass_extension\u001b[0m\u001b[0;34m)\u001b[0m\u001b[0;34m\u001b[0m\u001b[0;34m\u001b[0m\u001b[0m\n\u001b[1;32m    157\u001b[0m \u001b[0;34m\u001b[0m\u001b[0m\n",
            "\u001b[0;31mTypeError\u001b[0m: Estimator() takes no arguments"
          ]
        }
      ]
    },
    {
      "cell_type": "code",
      "metadata": {
        "id": "RO0iHhtHZAUj"
      },
      "source": [
        "    "
      ],
      "execution_count": null,
      "outputs": []
    }
  ]
}