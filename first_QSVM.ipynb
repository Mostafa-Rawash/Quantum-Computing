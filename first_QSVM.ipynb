{
  "nbformat": 4,
  "nbformat_minor": 0,
  "metadata": {
    "colab": {
      "name": "first-QSVM.ipynb",
      "private_outputs": true,
      "provenance": [],
      "authorship_tag": "ABX9TyM8MFm/d+ybDkVgKlKe+dbm",
      "include_colab_link": true
    },
    "kernelspec": {
      "name": "python3",
      "display_name": "Python 3"
    },
    "language_info": {
      "name": "python"
    },
    "accelerator": "GPU"
  },
  "cells": [
    {
      "cell_type": "markdown",
      "metadata": {
        "id": "view-in-github",
        "colab_type": "text"
      },
      "source": [
        "<a href=\"https://colab.research.google.com/github/Mostafa-Rawash/Quantum-Computing/blob/main/first_QSVM.ipynb\" target=\"_parent\"><img src=\"https://colab.research.google.com/assets/colab-badge.svg\" alt=\"Open In Colab\"/></a>"
      ]
    },
    {
      "cell_type": "code",
      "metadata": {
        "id": "P-1DxLSRFuwi"
      },
      "source": [
        ""
      ],
      "execution_count": null,
      "outputs": []
    },
    {
      "cell_type": "code",
      "metadata": {
        "id": "uBBfitGbFkGv"
      },
      "source": [
        "!pip install qiskit\n",
        "import qiskit"
      ],
      "execution_count": null,
      "outputs": []
    },
    {
      "cell_type": "code",
      "metadata": {
        "id": "RGs4ig7pFnu9"
      },
      "source": [
        "from matplotlib import pyplot as plt\n",
        "import numpy as np\n",
        "from qiskit.ml.datasets import iris\n",
        "from qiskit import BasicAer\n",
        "from qiskit.circuit.library import ZZFeatureMap\n",
        "from qiskit.aqua import QuantumInstance\n",
        "from qiskit.aqua.algorithms import QSVM\n",
        "from qiskit.aqua.utils import split_dataset_to_data_and_labels , map_label_to_class_name\n"
      ],
      "execution_count": null,
      "outputs": []
    },
    {
      "cell_type": "code",
      "metadata": {
        "id": "mpbnjD-lFn99"
      },
      "source": [
        "feature_dim = 2\n",
        "training_dataset_size = 60\n",
        "testing_dataset_size = 10\n",
        "randon_seed = 10598\n",
        "shot = 10000\n",
        "sample_Total , traning_input , test_input , class_labels = iris(training_size = training_dataset_size , test_size = testing_dataset_size, n = feature_dim  , plot_data=True )\n",
        "\n",
        "\n",
        "print(class_labels)\n",
        "datapoints , clas_to_label = split_dataset_to_data_and_labels(test_input)\n",
        "print(clas_to_label)"
      ],
      "execution_count": null,
      "outputs": []
    },
    {
      "cell_type": "code",
      "metadata": {
        "id": "2D2xOWW7Fpej"
      },
      "source": [
        "backend = BasicAer.get_backend('qasm_simulator')\n",
        "feature_map = ZZFeatureMap(feature_dim , reps = 2)\n",
        "svm = QSVM(feature_map,traning_input , test_input )\n",
        "svm.random_seed = randon_seed\n",
        "quantunInstance = QuantumInstance(backend, shots=shot , seed_simulator= randon_seed , seed_transpiler=randon_seed  )\n",
        "result = svm.run(quantunInstance)\n"
      ],
      "execution_count": null,
      "outputs": []
    },
    {
      "cell_type": "code",
      "metadata": {
        "id": "HqagQZJeFtFz"
      },
      "source": [
        "print(result)\n"
      ],
      "execution_count": null,
      "outputs": []
    },
    {
      "cell_type": "code",
      "metadata": {
        "id": "4tkkTL_6FtlX"
      },
      "source": [
        "print(\"Kernel matrix during the training:\")\n",
        "Kernel_matrix = result[\"kernel_matrix_training\"]\n",
        "img = plt.imshow(np.asmatrix(Kernel_matrix), interpolation=\"nearest\", origin=\"upper\" , cmap= \"Greens\")\n",
        "plt.show()"
      ],
      "execution_count": null,
      "outputs": []
    },
    {
      "cell_type": "code",
      "metadata": {
        "id": "JhAQ73seFwO5"
      },
      "source": [
        "predicted_labels = svm.predict(datapoints[0])\n",
        "predicted_class = map_label_to_class_name(predicted_labels ,svm.label_to_class)"
      ],
      "execution_count": null,
      "outputs": []
    },
    {
      "cell_type": "code",
      "metadata": {
        "id": "cmDN18OfHvpn"
      },
      "source": [
        "print(f'ground truth  : {datapoints[1]}')\n",
        "print(f'prediction    : {predicted_labels}')\n",
        "print(f'testing success ratio {result[\"testing_accuracy\"]}')"
      ],
      "execution_count": null,
      "outputs": []
    },
    {
      "cell_type": "code",
      "metadata": {
        "id": "GuOwjFWVJYUd"
      },
      "source": [
        ""
      ],
      "execution_count": null,
      "outputs": []
    }
  ]
}